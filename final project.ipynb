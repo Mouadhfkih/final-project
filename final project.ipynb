{
 "cells": [
  {
   "cell_type": "code",
   "execution_count": 6,
   "id": "08696a57",
   "metadata": {},
   "outputs": [
    {
     "name": "stdout",
     "output_type": "stream",
     "text": [
      "input the countdown in seconds5\n",
      "00:05/r00:04/r00:03/r00:02/r00:01/rFire in the hole\n"
     ]
    }
   ],
   "source": [
    "# countdown algo\n",
    "import time\n",
    "\n",
    "def countdown(num):\n",
    "    \n",
    "        while num:\n",
    "            \n",
    "            m,s = divmod(num, 60)\n",
    "            min_sec_format = '{:02d}:{:02d}'.format(m, s)\n",
    "            print(min_sec_format, end='/r')\n",
    "            time.sleep(1)\n",
    "            num -= 1\n",
    "        print('Fire in the hole')\n",
    "\n",
    "t= input('input the countdown in seconds')\n",
    "countdown(int(t))\n",
    "\n",
    "\n",
    "    \n"
   ]
  },
  {
   "cell_type": "code",
   "execution_count": null,
   "id": "994c7d6d",
   "metadata": {},
   "outputs": [],
   "source": []
  }
 ],
 "metadata": {
  "kernelspec": {
   "display_name": "Python 3 (ipykernel)",
   "language": "python",
   "name": "python3"
  },
  "language_info": {
   "codemirror_mode": {
    "name": "ipython",
    "version": 3
   },
   "file_extension": ".py",
   "mimetype": "text/x-python",
   "name": "python",
   "nbconvert_exporter": "python",
   "pygments_lexer": "ipython3",
   "version": "3.9.7"
  }
 },
 "nbformat": 4,
 "nbformat_minor": 5
}
